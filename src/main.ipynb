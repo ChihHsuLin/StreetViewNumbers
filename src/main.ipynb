{
 "cells": [
  {
   "cell_type": "markdown",
   "metadata": {},
   "source": [
    "# Street number recognition (COMP540 Spring 2017 @ Rice U)"
   ]
  },
  {
   "cell_type": "code",
   "execution_count": 2,
   "metadata": {
    "collapsed": false
   },
   "outputs": [],
   "source": [
    "import sys\n",
    "import os\n",
    "import numpy as np\n",
    "import pandas as pd\n",
    "import cPickle as pickle\n",
    "# from PIL import Image\n",
    "# import png\n",
    "import matplotlib.pyplot as plt\n",
    "%matplotlib inline\n",
    "from __future__ import print_function"
   ]
  },
  {
   "cell_type": "code",
   "execution_count": 2,
   "metadata": {
    "collapsed": true
   },
   "outputs": [],
   "source": [
    "home = '/Users/chih-hsulin/'"
   ]
  },
  {
   "cell_type": "code",
   "execution_count": 3,
   "metadata": {
    "collapsed": true
   },
   "outputs": [],
   "source": [
    "home = '/Users/chlin/'"
   ]
  },
  {
   "cell_type": "markdown",
   "metadata": {},
   "source": [
    "# Data processing"
   ]
  },
  {
   "cell_type": "markdown",
   "metadata": {},
   "source": [
    "## Load data & pre-process data"
   ]
  },
  {
   "cell_type": "code",
   "execution_count": 12,
   "metadata": {
    "collapsed": true
   },
   "outputs": [],
   "source": [
    "inputFile = home+'/data/COMP540Project2017/train.csv'\n",
    "df = pd.read_csv(inputFile,sep=\",\")\n",
    "pixels=df[df.columns[df.columns!='label']]\n",
    "trainX=pixels.values.reshape(32, 32, 3, -1).transpose(3,0,1,2)\n",
    "trainY=df['label'].values\n",
    "inputFile = home+'/data/COMP540Project2017/test.csv'\n",
    "df = pd.read_csv(inputFile,sep=\",\")\n",
    "testX=df.values.reshape(32, 32, 3, -1).transpose(3,0,1,2)"
   ]
  },
  {
   "cell_type": "code",
   "execution_count": 13,
   "metadata": {
    "collapsed": true
   },
   "outputs": [],
   "source": [
    "inputFile = home+'/data/COMP540Project2017/extra.csv'\n",
    "df = pd.read_csv(inputFile,sep=\",\")"
   ]
  },
  {
   "cell_type": "code",
   "execution_count": 14,
   "metadata": {
    "collapsed": true
   },
   "outputs": [],
   "source": [
    "pixels=df[df.columns[df.columns!='label']]\n",
    "trainX_extra=pixels.values.reshape(32, 32, 3, -1).transpose(3,0,1,2)\n",
    "trainY_extra=df['label'].values"
   ]
  },
  {
   "cell_type": "code",
   "execution_count": 55,
   "metadata": {
    "collapsed": false
   },
   "outputs": [
    {
     "name": "stdout",
     "output_type": "stream",
     "text": [
      "10 loops, best of 3: 60.3 ms per loop\n"
     ]
    }
   ],
   "source": [
    "def saveArray(fn,data):\n",
    "    f = open(fn, 'wb')\n",
    "    pickler = pickle.Pickler(f)\n",
    "    data = list(data)\n",
    "    for e in data:\n",
    "        pickler.dump(e)\n",
    "    f.close()\n",
    "%timeit saveArray('mydata.pkl',trainX_extra2)"
   ]
  },
  {
   "cell_type": "code",
   "execution_count": 57,
   "metadata": {
    "collapsed": false
   },
   "outputs": [
    {
     "name": "stdout",
     "output_type": "stream",
     "text": [
      "10 loops, best of 3: 154 ms per loop\n"
     ]
    }
   ],
   "source": [
    "def loadArray(fn):\n",
    "    f = open('mydata.pkl', 'rb')\n",
    "    unpickler = pickle.Unpickler(f)\n",
    "    data=[]\n",
    "    for i in xrange(10):\n",
    "        data.append(unpickler.load())\n",
    "    return(np.array(data))\n",
    "%timeit trainX_extra3=loadArray('mydata.pkl')"
   ]
  },
  {
   "cell_type": "code",
   "execution_count": 15,
   "metadata": {
    "collapsed": true
   },
   "outputs": [],
   "source": [
    "# Functions for saving data in bytes format\n",
    "# Ref: http://stackoverflow.com/questions/37954324/how-to-load-one-line-at-a-time-from-a-pickle-file\n",
    "def dumparray4D(a, path):\n",
    "    lines, _,_,_ = a.shape\n",
    "    with open(path, 'wb') as fd:\n",
    "        for i in range(lines):\n",
    "            fd.write(a[i,...].tobytes())\n",
    "\n",
    "def dumparray1D(a, path):\n",
    "    lines = a.shape[0]\n",
    "    with open(path, 'wb') as fd:\n",
    "        for i in range(lines):\n",
    "            fd.write(a[i].tobytes())"
   ]
  },
  {
   "cell_type": "code",
   "execution_count": 16,
   "metadata": {
    "collapsed": false
   },
   "outputs": [],
   "source": [
    "# Functions for loading data in bytes format\n",
    "class LineAccess4D(object):\n",
    "    def __init__(self, path, col_n,row_n,depth, dtype):\n",
    "        self.dtype = dtype\n",
    "        self.fd = open(path, 'rb')\n",
    "        self.line_length = (col_n*row_n*depth)*dtype.itemsize\n",
    "\n",
    "    def read_line(self, line):\n",
    "        offset = line*self.line_length\n",
    "        self.fd.seek(offset)\n",
    "        data = self.fd.read(self.line_length)\n",
    "        return np.frombuffer(data, self.dtype)\n",
    "\n",
    "    def close(self):\n",
    "        self.fd.close()\n",
    "\n",
    "class LineAccess1D(object):\n",
    "    def __init__(self, path, dtype):\n",
    "        self.dtype = dtype\n",
    "        self.fd = open(path, 'rb')\n",
    "        self.line_length = dtype.itemsize\n",
    "\n",
    "    def read_line(self, line):\n",
    "        offset = line*self.line_length\n",
    "        self.fd.seek(offset)\n",
    "        data = self.fd.read(self.line_length)\n",
    "        return np.frombuffer(data, self.dtype)\n",
    "\n",
    "    def close(self):\n",
    "        self.fd.close()\n",
    "        \n",
    "def loadArrayBytes4D(path, sample_start,sample_end,col_n,row_n,depth, dtype):\n",
    "    rla = LineAccess4D(path, col_n,row_n,depth, dtype)\n",
    "    data = []\n",
    "    for i in xrange(sample_start,sample_end):\n",
    "        data.append(rla.read_line(i).reshape(col_n,row_n,depth).astype(np.float32))\n",
    "    return(np.array(data))\n",
    "\n",
    "def loadArrayBytes1D(path, sample_start,sample_end, dtype):\n",
    "    rla = LineAccess1D(path, dtype)\n",
    "    data = []\n",
    "    for i in xrange(sample_start,sample_end):\n",
    "        data+=list(rla.read_line(i).astype(np.float32))\n",
    "    return(np.array(data))"
   ]
  },
  {
   "cell_type": "code",
   "execution_count": null,
   "metadata": {
    "collapsed": true
   },
   "outputs": [],
   "source": [
    "# dtype = trainX_extra2[0].dtype            \n",
    "# dumparray(trainX_extra2,path)\n",
    "# trainX_extra2.shape\n",
    "# print(trainX_extra2)\n",
    "# %timeit dumparray(trainX_extra2,path)\n",
    "\n",
    "# a=trainX_extra2.astype(np.int8)\n",
    "# %timeit dumparray(a,path)"
   ]
  },
  {
   "cell_type": "code",
   "execution_count": 18,
   "metadata": {
    "collapsed": false
   },
   "outputs": [
    {
     "data": {
      "text/plain": [
       "(5000, 32, 32, 3)"
      ]
     },
     "execution_count": 18,
     "metadata": {},
     "output_type": "execute_result"
    }
   ],
   "source": [
    "# Subset training data\n",
    "trainXs = trainX[0:5000]\n",
    "trainYs = trainY[0:5000]\n",
    "trainX=trainXs\n",
    "trainY=trainYs"
   ]
  },
  {
   "cell_type": "code",
   "execution_count": 20,
   "metadata": {
    "collapsed": false
   },
   "outputs": [],
   "source": [
    "# Crop data to 28 x 28\n",
    "trainX_all_crop = trainX_all[:,2:-2,2:-2]\n"
   ]
  },
  {
   "cell_type": "code",
   "execution_count": 22,
   "metadata": {
    "collapsed": false
   },
   "outputs": [
    {
     "data": {
      "text/plain": [
       "(604388, 28, 28, 3)"
      ]
     },
     "execution_count": 22,
     "metadata": {},
     "output_type": "execute_result"
    }
   ],
   "source": [
    "trainX_all_crop.shape"
   ]
  },
  {
   "cell_type": "markdown",
   "metadata": {},
   "source": [
    "## Save pre-processed data"
   ]
  },
  {
   "cell_type": "code",
   "execution_count": 4,
   "metadata": {
    "collapsed": false
   },
   "outputs": [],
   "source": [
    "pFile = open(home+'/data/COMP540Project2017/train.pkl', 'wb')\n",
    "pickle.dump((trainX,trainY), pFile, protocol=pickle.HIGHEST_PROTOCOL)\n",
    "pFile.close()"
   ]
  },
  {
   "cell_type": "code",
   "execution_count": null,
   "metadata": {
    "collapsed": true
   },
   "outputs": [],
   "source": [
    "pFile = open(home+'/data/COMP540Project2017/test.pkl', 'wb')\n",
    "pickle.dump(testX, pFile, protocol=pickle.HIGHEST_PROTOCOL)\n",
    "pFile.close()"
   ]
  },
  {
   "cell_type": "code",
   "execution_count": 5,
   "metadata": {
    "collapsed": false
   },
   "outputs": [
    {
     "ename": "NameError",
     "evalue": "name 'trainXs' is not defined",
     "output_type": "error",
     "traceback": [
      "\u001b[0;31m---------------------------------------------------------------------------\u001b[0m",
      "\u001b[0;31mNameError\u001b[0m                                 Traceback (most recent call last)",
      "\u001b[0;32m<ipython-input-5-9641c29dbbf1>\u001b[0m in \u001b[0;36m<module>\u001b[0;34m()\u001b[0m\n\u001b[1;32m      1\u001b[0m \u001b[0mpFile\u001b[0m \u001b[0;34m=\u001b[0m \u001b[0mopen\u001b[0m\u001b[0;34m(\u001b[0m\u001b[0;34m'../data/trainSubset.pkl'\u001b[0m\u001b[0;34m,\u001b[0m \u001b[0;34m'wb'\u001b[0m\u001b[0;34m)\u001b[0m\u001b[0;34m\u001b[0m\u001b[0m\n\u001b[0;32m----> 2\u001b[0;31m \u001b[0mpickle\u001b[0m\u001b[0;34m.\u001b[0m\u001b[0mdump\u001b[0m\u001b[0;34m(\u001b[0m\u001b[0;34m(\u001b[0m\u001b[0mtrainXs\u001b[0m\u001b[0;34m,\u001b[0m\u001b[0mtrainYs\u001b[0m\u001b[0;34m)\u001b[0m\u001b[0;34m,\u001b[0m \u001b[0mpFile\u001b[0m\u001b[0;34m,\u001b[0m \u001b[0mprotocol\u001b[0m\u001b[0;34m=\u001b[0m\u001b[0mpickle\u001b[0m\u001b[0;34m.\u001b[0m\u001b[0mHIGHEST_PROTOCOL\u001b[0m\u001b[0;34m)\u001b[0m\u001b[0;34m\u001b[0m\u001b[0m\n\u001b[0m\u001b[1;32m      3\u001b[0m \u001b[0mpFile\u001b[0m\u001b[0;34m.\u001b[0m\u001b[0mclose\u001b[0m\u001b[0;34m(\u001b[0m\u001b[0;34m)\u001b[0m\u001b[0;34m\u001b[0m\u001b[0m\n",
      "\u001b[0;31mNameError\u001b[0m: name 'trainXs' is not defined"
     ]
    }
   ],
   "source": [
    "pFile = open('../data/trainSubset.pkl', 'wb')\n",
    "pickle.dump((trainXs,trainYs), pFile, protocol=pickle.HIGHEST_PROTOCOL)\n",
    "pFile.close()"
   ]
  },
  {
   "cell_type": "code",
   "execution_count": 11,
   "metadata": {
    "collapsed": true
   },
   "outputs": [
    {
     "ename": "KeyboardInterrupt",
     "evalue": "",
     "output_type": "error",
     "traceback": [
      "\u001b[0;31m---------------------------------------------------------------------------\u001b[0m",
      "\u001b[0;31mKeyboardInterrupt\u001b[0m                         Traceback (most recent call last)",
      "\u001b[0;32m<ipython-input-11-3c093e8f05c6>\u001b[0m in \u001b[0;36m<module>\u001b[0;34m()\u001b[0m\n\u001b[1;32m      1\u001b[0m \u001b[0mpath\u001b[0m \u001b[0;34m=\u001b[0m \u001b[0mhome\u001b[0m\u001b[0;34m+\u001b[0m\u001b[0;34m'/data/COMP540Project2017/trainX_extra.bytes'\u001b[0m\u001b[0;34m\u001b[0m\u001b[0m\n\u001b[0;32m----> 2\u001b[0;31m \u001b[0mtrainX_extra\u001b[0m \u001b[0;34m=\u001b[0m \u001b[0mtrainX_extra\u001b[0m\u001b[0;34m.\u001b[0m\u001b[0mastype\u001b[0m\u001b[0;34m(\u001b[0m\u001b[0mnp\u001b[0m\u001b[0;34m.\u001b[0m\u001b[0mint8\u001b[0m\u001b[0;34m)\u001b[0m\u001b[0;34m\u001b[0m\u001b[0m\n\u001b[0m\u001b[1;32m      3\u001b[0m \u001b[0mdumparray4D\u001b[0m\u001b[0;34m(\u001b[0m\u001b[0mtrainX_extra\u001b[0m\u001b[0;34m,\u001b[0m\u001b[0mpath\u001b[0m\u001b[0;34m)\u001b[0m\u001b[0;34m\u001b[0m\u001b[0m\n\u001b[1;32m      4\u001b[0m \u001b[0mtrainY_extra\u001b[0m \u001b[0;34m=\u001b[0m \u001b[0mtrainY_extra\u001b[0m\u001b[0;34m.\u001b[0m\u001b[0mastype\u001b[0m\u001b[0;34m(\u001b[0m\u001b[0mnp\u001b[0m\u001b[0;34m.\u001b[0m\u001b[0mint8\u001b[0m\u001b[0;34m)\u001b[0m\u001b[0;34m\u001b[0m\u001b[0m\n\u001b[1;32m      5\u001b[0m \u001b[0mpath\u001b[0m \u001b[0;34m=\u001b[0m \u001b[0mhome\u001b[0m\u001b[0;34m+\u001b[0m\u001b[0;34m'/data/COMP540Project2017/trainY_extra.bytes'\u001b[0m\u001b[0;34m\u001b[0m\u001b[0m\n",
      "\u001b[0;31mKeyboardInterrupt\u001b[0m: "
     ]
    }
   ],
   "source": [
    "# Save extra data into bytes format\n",
    "path = home+'/data/COMP540Project2017/trainX_extra.bytes'\n",
    "trainX_extra = trainX_extra.astype(np.uint8)\n",
    "dumparray4D(trainX_extra,path)\n",
    "trainY_extra = trainY_extra.astype(np.uint8)\n",
    "path = home+'/data/COMP540Project2017/trainY_extra.bytes'\n",
    "dumparray1D(trainY_extra,path)"
   ]
  },
  {
   "cell_type": "code",
   "execution_count": 112,
   "metadata": {
    "collapsed": false,
    "scrolled": true
   },
   "outputs": [
    {
     "name": "stdout",
     "output_type": "stream",
     "text": [
      "(531131, 32, 32, 3)\n",
      "(531131,)\n"
     ]
    }
   ],
   "source": [
    "print(trainX_extra.shape)\n",
    "print(trainY_extra.shape)"
   ]
  },
  {
   "cell_type": "code",
   "execution_count": 17,
   "metadata": {
    "collapsed": false,
    "scrolled": true
   },
   "outputs": [
    {
     "name": "stdout",
     "output_type": "stream",
     "text": [
      "(604388, 32, 32, 3)\n",
      "(604388,)\n"
     ]
    }
   ],
   "source": [
    "# Combine training and extra training data\n",
    "trainX_all = np.concatenate([trainX,trainX_extra],axis=0)\n",
    "print(trainX_all.shape)\n",
    "trainY_all = np.concatenate([trainY,trainY_extra],axis=0)\n",
    "print(trainY_all.shape)"
   ]
  },
  {
   "cell_type": "code",
   "execution_count": 18,
   "metadata": {
    "collapsed": false
   },
   "outputs": [],
   "source": [
    "# Save training and extra training data\n",
    "path = home+'/data/COMP540Project2017/trainX_all.bytes'\n",
    "# a=trainX_extra2.astype(np.int8)\n",
    "# %timeit dumparray(a,path)\n",
    "trainX_all = trainX_all.astype(np.uint8)\n",
    "dumparray4D(trainX_all,path)\n",
    "trainY_all = trainY_all.astype(np.uint8)\n",
    "path = home+'/data/COMP540Project2017/trainY_all.bytes'\n",
    "dumparray1D(trainY_all,path)"
   ]
  },
  {
   "cell_type": "code",
   "execution_count": 23,
   "metadata": {
    "collapsed": true
   },
   "outputs": [],
   "source": [
    "path = home+'/data/COMP540Project2017/trainX_all_crop.bytes'\n",
    "# a=trainX_extra2.astype(np.int8)\n",
    "# %timeit dumparray(a,path)\n",
    "trainX_all_crop = trainX_all_crop.astype(np.uint8)\n",
    "dumparray4D(trainX_all_crop,path)"
   ]
  },
  {
   "cell_type": "markdown",
   "metadata": {},
   "source": [
    "## Load pre-processed data"
   ]
  },
  {
   "cell_type": "code",
   "execution_count": 4,
   "metadata": {
    "collapsed": false
   },
   "outputs": [
    {
     "ename": "EOFError",
     "evalue": "",
     "output_type": "error",
     "traceback": [
      "\u001b[0;31m---------------------------------------------------------------------------\u001b[0m",
      "\u001b[0;31mEOFError\u001b[0m                                  Traceback (most recent call last)",
      "\u001b[0;32m<ipython-input-4-10505d42889c>\u001b[0m in \u001b[0;36m<module>\u001b[0;34m()\u001b[0m\n\u001b[1;32m      2\u001b[0m \u001b[0mpFN\u001b[0m \u001b[0;34m=\u001b[0m \u001b[0;34m'../data/trainSubset.pkl'\u001b[0m\u001b[0;34m\u001b[0m\u001b[0m\n\u001b[1;32m      3\u001b[0m \u001b[0mpFile\u001b[0m \u001b[0;34m=\u001b[0m \u001b[0mopen\u001b[0m\u001b[0;34m(\u001b[0m\u001b[0mpFN\u001b[0m\u001b[0;34m,\u001b[0m \u001b[0;34m'rb'\u001b[0m\u001b[0;34m)\u001b[0m\u001b[0;34m\u001b[0m\u001b[0m\n\u001b[0;32m----> 4\u001b[0;31m \u001b[0mtrainX\u001b[0m\u001b[0;34m,\u001b[0m\u001b[0mtrainY\u001b[0m \u001b[0;34m=\u001b[0m \u001b[0mpickle\u001b[0m\u001b[0;34m.\u001b[0m\u001b[0mload\u001b[0m\u001b[0;34m(\u001b[0m\u001b[0mpFile\u001b[0m\u001b[0;34m)\u001b[0m\u001b[0;34m\u001b[0m\u001b[0m\n\u001b[0m",
      "\u001b[0;31mEOFError\u001b[0m: "
     ]
    }
   ],
   "source": [
    "# Load subset of training data\n",
    "pFN = '../data/trainSubset.pkl'\n",
    "pFile = open(pFN, 'rb')\n",
    "trainX,trainY = pickle.load(pFile)"
   ]
  },
  {
   "cell_type": "code",
   "execution_count": 5,
   "metadata": {
    "collapsed": true
   },
   "outputs": [],
   "source": [
    "pFN = home+'/data/COMP540Project2017/train.pkl'\n",
    "pFile = open(pFN, 'rb')\n",
    "trainX,trainY = pickle.load(pFile)\n",
    "pFN = home+'/data/COMP540Project2017/test.pkl'\n",
    "pFile = open(pFN, 'rb')\n",
    "testX = pickle.load(pFile)"
   ]
  },
  {
   "cell_type": "code",
   "execution_count": 8,
   "metadata": {
    "collapsed": false
   },
   "outputs": [],
   "source": [
    "# Load extra data\n",
    "dtype=np.dtype(np.int8)\n",
    "type(dtype)\n",
    "sample_end = 531131\n",
    "sample_start = 0\n",
    "# sample_end = 10\n",
    "col_n = 32\n",
    "row_n = 32\n",
    "depth = 3\n",
    "path = home+'/data/COMP540Project2017/trainX_extra.bytes'\n",
    "trainX_extra = loadArrayBytes4D(path, sample_start,sample_end,col_n,row_n,depth, dtype)\n",
    "# print(train4)\n",
    "path = home+'/data/COMP540Project2017/trainY_extra.bytes'\n",
    "trainY_extra = loadArrayBytes1D(path,sample_start,sample_end,dtype)"
   ]
  },
  {
   "cell_type": "code",
   "execution_count": 8,
   "metadata": {
    "collapsed": false
   },
   "outputs": [
    {
     "name": "stdout",
     "output_type": "stream",
     "text": [
      "(604388, 32, 32, 3)\n",
      "(604388,)\n"
     ]
    }
   ],
   "source": [
    "# Load training + extra data\n",
    "dtype=np.dtype(np.int8)\n",
    "type(dtype)\n",
    "sample_end = 604388\n",
    "sample_start = 0\n",
    "# sample_end = 10\n",
    "col_n = 32\n",
    "row_n = 32\n",
    "depth = 3\n",
    "path = home+'/data/COMP540Project2017/trainX_all.bytes'\n",
    "trainX_all = loadArrayBytes4D(path, sample_start,sample_end,col_n,row_n,depth, dtype)\n",
    "# print(train4)\n",
    "path = home+'/data/COMP540Project2017/trainY_all.bytes'\n",
    "trainY_all = loadArrayBytes1D(path,sample_start,sample_end,dtype)\n",
    "print(trainX_all.shape)\n",
    "print(trainY_all.shape)"
   ]
  },
  {
   "cell_type": "markdown",
   "metadata": {},
   "source": [
    "# Visualizing data"
   ]
  },
  {
   "cell_type": "code",
   "execution_count": 19,
   "metadata": {
    "collapsed": false
   },
   "outputs": [
    {
     "data": {
      "text/plain": [
       "<matplotlib.image.AxesImage at 0x11c12c910>"
      ]
     },
     "execution_count": 19,
     "metadata": {},
     "output_type": "execute_result"
    },
    {
     "data": {
      "image/png": "[encoded data removed]",
      "text/plain": [
       "<matplotlib.figure.Figure at 0x11a1c3c10>"
      ]
     },
     "metadata": {},
     "output_type": "display_data"
    }
   ],
   "source": [
    "# Take a glance of data\n",
    "plt.imshow(trainX[0])"
   ]
  },
  {
   "cell_type": "markdown",
   "metadata": {},
   "source": [
    "# Feature extraction"
   ]
  },
  {
   "cell_type": "markdown",
   "metadata": {},
   "source": [
    "## Extract patches"
   ]
  },
  {
   "cell_type": "code",
   "execution_count": 26,
   "metadata": {
    "collapsed": false
   },
   "outputs": [
    {
     "data": {
      "text/plain": [
       "(5000, 24300)"
      ]
     },
     "execution_count": 26,
     "metadata": {},
     "output_type": "execute_result"
    }
   ],
   "source": [
    "from sklearn.feature_extraction import image\n",
    "\n",
    "def extractPatches(X, patchSize = (3,3)):\n",
    "    trainX_patches = []\n",
    "    for x in trainX:\n",
    "        patches = image.extract_patches_2d(x, patchSize)\n",
    "    #     print patches.shape\n",
    "        patches=patches.reshape(len(patches), -1)\n",
    "        data = np.reshape(patches, (len(patches), -1))\n",
    "    #     print data.shape\n",
    "        data = np.concatenate(data, axis=0)\n",
    "    #     print data.shape\n",
    "        trainX_patches.append(data)\n",
    "    return np.array(trainX_patches)\n",
    "\n",
    "# d = np.concatenate(trainXs_patches, axis=0)\n",
    "# d.shape\n",
    "trainX_patches = extractPatches(trainX)\n",
    "trainX_patches.shape"
   ]
  },
  {
   "cell_type": "markdown",
   "metadata": {},
   "source": [
    "# Feature normalization"
   ]
  },
  {
   "cell_type": "code",
   "execution_count": 36,
   "metadata": {
    "collapsed": false
   },
   "outputs": [
    {
     "data": {
      "text/plain": [
       "array([-1.58759226, -1.59543497, -1.50958898, -1.93837705, -1.73761541,\n",
       "       -1.88353038, -1.93840333, -1.85714094, -1.89809678, -1.69058637])"
      ]
     },
     "execution_count": 36,
     "metadata": {},
     "output_type": "execute_result"
    }
   ],
   "source": [
    "from sklearn import preprocessing\n",
    "\n",
    "def scaling(X):\n",
    "    return preprocessing.scale(X)\n",
    "trainX_scaled = scaling(trainX_patches)\n",
    "# trainX_scaled = trainX_patches\n",
    "trainX_scaled[0][0:10]"
   ]
  },
  {
   "cell_type": "markdown",
   "metadata": {},
   "source": [
    "# Feature selection"
   ]
  },
  {
   "cell_type": "code",
   "execution_count": 37,
   "metadata": {
    "collapsed": false
   },
   "outputs": [
    {
     "name": "stdout",
     "output_type": "stream",
     "text": [
      "24300 features were selected down to 9355 features\n",
      "(5000, 9355)\n",
      "(5000,)\n"
     ]
    }
   ],
   "source": [
    "from sklearn.feature_selection import VarianceThreshold\n",
    "from sklearn.ensemble import ExtraTreesClassifier\n",
    "from sklearn.feature_selection import SelectFromModel\n",
    "\n",
    "def selectVariedFeatures(X):\n",
    "    sel = VarianceThreshold(threshold=0.1)\n",
    "    return sel.fit_transform(X)\n",
    "\n",
    "def selectFeatures_tree(X,y):\n",
    "    clf = ExtraTreesClassifier()\n",
    "    clf = clf.fit(X, y)\n",
    "    model = SelectFromModel(clf, prefit=True)\n",
    "    X_new = model.transform(X)\n",
    "    return X_new\n",
    "\n",
    "trainX_scaled_selected = selectFeatures_tree(trainX_scaled,trainY)\n",
    "print '{} features were selected down to {} features'.format(trainX_scaled.shape[1],trainX_scaled_selected.shape[1])\n",
    "print trainX_scaled_selected.shape\n",
    "print trainY.shape\n",
    "\n",
    "# trainX_scaled_selected = selectVariedFeatures(trainX_scaled)\n",
    "# print '{} features were selected down to {} features'.format(trainX_scaled.shape[1],trainX_scaled_selected.shape[1])\n",
    "# print trainX_scaled_selected.shape\n",
    "# print trainY.shape\n"
   ]
  },
  {
   "cell_type": "markdown",
   "metadata": {},
   "source": [
    "# Dimensionality reduction"
   ]
  },
  {
   "cell_type": "code",
   "execution_count": 49,
   "metadata": {
    "collapsed": false
   },
   "outputs": [
    {
     "name": "stdout",
     "output_type": "stream",
     "text": [
      "Explained variance %: [ 0.85579893  0.08584543  0.05835564]\n",
      "(5000, 3)\n"
     ]
    }
   ],
   "source": [
    "from sklearn.decomposition import IncrementalPCA,PCA\n",
    "def PCAdecomposition(X,n=3):\n",
    "#     ipca = IncrementalPCA(n_components=n)\n",
    "    pca = PCA(n_components=n)\n",
    "    pca.fit(X)\n",
    "    newX = pca.transform(X)\n",
    "    print 'Explained variance %: {}'.format(pca.explained_variance_ratio_)\n",
    "    return newX\n",
    "trainX_scaled_selected = PCAdecomposition(trainX_scaled_selected)\n",
    "print trainX_scaled_selected.shape"
   ]
  },
  {
   "cell_type": "markdown",
   "metadata": {},
   "source": [
    "# Models"
   ]
  },
  {
   "cell_type": "code",
   "execution_count": 50,
   "metadata": {
    "collapsed": false
   },
   "outputs": [],
   "source": [
    "from sklearn.model_selection import learning_curve\n",
    "from sklearn.model_selection import KFold\n",
    "def plot_learning_curve(estimator, title, X, y, ylim=None, cv=None,\n",
    "                        n_jobs=1, train_sizes=np.linspace(.1, 1.0, 5)):\n",
    "    plt.figure()\n",
    "    plt.title(title)\n",
    "    if ylim is not None:\n",
    "        plt.ylim(*ylim)\n",
    "    plt.xlabel(\"Training examples\")\n",
    "    plt.ylabel(\"Score\")\n",
    "    train_sizes, train_scores, test_scores = learning_curve(\n",
    "        estimator, X, y, cv=cv, n_jobs=n_jobs, train_sizes=train_sizes)\n",
    "    train_scores_mean = np.mean(train_scores, axis=1)\n",
    "    train_scores_std = np.std(train_scores, axis=1)\n",
    "    test_scores_mean = np.mean(test_scores, axis=1)\n",
    "    test_scores_std = np.std(test_scores, axis=1)\n",
    "    plt.grid()\n",
    "\n",
    "    plt.fill_between(train_sizes, train_scores_mean - train_scores_std,\n",
    "                     train_scores_mean + train_scores_std, alpha=0.1,\n",
    "                     color=\"r\")\n",
    "    plt.fill_between(train_sizes, test_scores_mean - test_scores_std,\n",
    "                     test_scores_mean + test_scores_std, alpha=0.1, color=\"g\")\n",
    "    plt.plot(train_sizes, train_scores_mean, 'o-', color=\"r\",\n",
    "             label=\"Training score\")\n",
    "    plt.plot(train_sizes, test_scores_mean, 'o-', color=\"g\",\n",
    "             label=\"Cross-validation score\")\n",
    "    plt.legend(loc=\"best\")\n",
    "    return plt"
   ]
  },
  {
   "cell_type": "markdown",
   "metadata": {
    "collapsed": true
   },
   "source": [
    "## OVA"
   ]
  },
  {
   "cell_type": "code",
   "execution_count": 51,
   "metadata": {
    "collapsed": false
   },
   "outputs": [
    {
     "data": {
      "image/png": "[encoded data removed]",
      "text/plain": [
       "<matplotlib.figure.Figure at 0x11df02f90>"
      ]
     },
     "metadata": {},
     "output_type": "display_data"
    }
   ],
   "source": [
    "from sklearn.multiclass import OneVsRestClassifier\n",
    "from sklearn.linear_model import LogisticRegressionCV\n",
    "\n",
    "\n",
    "cv = KFold(n_splits=5, random_state=0)\n",
    "title = \"Learning Curves of OVA LogitCV\"\n",
    "estimator = OneVsRestClassifier(LogisticRegressionCV(random_state=0))\n",
    "x=plot_learning_curve(estimator, title, trainX_scaled_selected, trainY, ylim=(0, 1.01), cv=cv, n_jobs=4)\n",
    "x.show()\n",
    "\n",
    "# model = OneVsRestClassifier(LogisticRegressionCV(random_state=0)).fit(trainX_scaled_selected, trainY)\n",
    "# print model.predict(trainX_scaled_selected)\n",
    "# print trainY"
   ]
  },
  {
   "cell_type": "code",
   "execution_count": null,
   "metadata": {
    "collapsed": true
   },
   "outputs": [],
   "source": []
  }
 ],
 "metadata": {
  "anaconda-cloud": {},
  "kernelspec": {
   "display_name": "Python [default]",
   "language": "python",
   "name": "python2"
  },
  "language_info": {
   "codemirror_mode": {
    "name": "ipython",
    "version": 2
   },
   "file_extension": ".py",
   "mimetype": "text/x-python",
   "name": "python",
   "nbconvert_exporter": "python",
   "pygments_lexer": "ipython2",
   "version": "2.7.12"
  }
 },
 "nbformat": 4,
 "nbformat_minor": 0
}
